{
 "cells": [
  {
   "cell_type": "code",
   "execution_count": 1,
   "metadata": {},
   "outputs": [],
   "source": [
    "import cv2\n",
    "import numpy as np\n",
    "from  matplotlib import pyplot as plt\n",
    "%matplotlib inline"
   ]
  },
  {
   "cell_type": "code",
   "execution_count": 2,
   "metadata": {},
   "outputs": [
    {
     "name": "stdout",
     "output_type": "stream",
     "text": [
      "(512, 512, 3)\n"
     ]
    }
   ],
   "source": [
    "# 讀取圖檔\n",
    "img = cv2.imread('lena.bmp')\n",
    "s = img.shape\n",
    "block_size = 8"
   ]
  },
  {
   "cell_type": "code",
   "execution_count": 3,
   "metadata": {},
   "outputs": [],
   "source": [
    "s = img.shape\n",
    "bn = np.zeros(img.shape)\n",
    "for i in range(s[2]):\n",
    "    for j in range(s[0]):\n",
    "        for k in range(s[1]):\n",
    "            if img[j,k,i]>127:\n",
    "                bn[j,k,i] = 255\n",
    "            else:\n",
    "                bn[j,k,i] = 0"
   ]
  },
  {
   "cell_type": "code",
   "execution_count": 4,
   "metadata": {},
   "outputs": [],
   "source": [
    "def downsample(img, block_size):\n",
    "    s = img.shape\n",
    "    row = int(s[0]/block_size)\n",
    "    col = int(s[1]/block_size)\n",
    "    ds = np.zeros((row, col, s[2]))\n",
    "    for i in range(row):\n",
    "        for j in range(col):\n",
    "            ds[i, j, 0] = img[i*block_size, j*block_size, 0] \n",
    "            ds[i, j, 1] = img[i*block_size, j*block_size, 1] \n",
    "            ds[i, j, 2] = img[i*block_size, j*block_size, 2] \n",
    "    return ds"
   ]
  },
  {
   "cell_type": "code",
   "execution_count": 5,
   "metadata": {
    "scrolled": true
   },
   "outputs": [
    {
     "data": {
      "image/png": "[encoded data removed]",
      "text/plain": [
       "<Figure size 432x288 with 1 Axes>"
      ]
     },
     "metadata": {
      "needs_background": "light"
     },
     "output_type": "display_data"
    }
   ],
   "source": [
    "down_sample = downsample(bn, block_size)\n",
    "plt.imshow(down_sample.astype('uint8'))\n",
    "plt.show()"
   ]
  },
  {
   "cell_type": "code",
   "execution_count": 6,
   "metadata": {},
   "outputs": [],
   "source": [
    "def yokoi_four_connectivity(img):\n",
    "    img_pad = np.pad(array=img, pad_width=((1,1),(1,1),(0,0)), mode='constant', constant_values=0)\n",
    "    img_size = img.shape\n",
    "    img_tmp = np.zeros(img_size)\n",
    "    for i in range(1,img_size[0]+1): #1~\n",
    "        for j in range(1,img_size[1]+1): #1~\n",
    "            if img_pad[i, j, 0] != 0:\n",
    "                #1.find q r s\n",
    "                label = []\n",
    "                #左\n",
    "                if img_pad[i, j, 0] != img_pad[i, j-1, 0]:\n",
    "                    label.append('s')\n",
    "                else:\n",
    "                    if img_pad[i-1, j-1, 0] != img_pad[i-1, j, 0]:\n",
    "                        label.append('q')\n",
    "                    else:\n",
    "                        if img_pad[i-1, j-1, 0] > 0:\n",
    "                            label.append('r')\n",
    "                        else:\n",
    "                            label.append('q')\n",
    "                #上\n",
    "                if img_pad[i, j, 0] != img_pad[i-1, j, 0]:\n",
    "                    label.append('s')\n",
    "                else:\n",
    "                    if img_pad[i-1, j+1, 0] != img_pad[i, j+1, 0]:\n",
    "                        label.append('q')\n",
    "                    else:\n",
    "                        if img_pad[i-1, j+1, 0] > 0:\n",
    "                            label.append('r')\n",
    "                        else:\n",
    "                            label.append('q')\n",
    "                #右\n",
    "                if img_pad[i, j, 0] != img_pad[i, j+1, 0]:\n",
    "                    label.append('s')\n",
    "                else:\n",
    "                    if img_pad[i+1, j+1, 0] != img_pad[i+1, j, 0]:\n",
    "                        label.append('q')\n",
    "                    else:\n",
    "                        if img_pad[i+1, j+1, 0] > 0:\n",
    "                            label.append('r')\n",
    "                        else:\n",
    "                            label.append('q')\n",
    "                #下\n",
    "                if img_pad[i, j, 0] != img_pad[i+1, j, 0]:\n",
    "                    label.append('s')\n",
    "                else:\n",
    "                    if img_pad[i+1, j-1, 0] != img_pad[i, j-1, 0]:\n",
    "                        label.append('q')\n",
    "                    else:\n",
    "                        if img_pad[i+1, j-1, 0] > 0:\n",
    "                            label.append('r')\n",
    "                        else:\n",
    "                            label.append('q')\n",
    "                        \n",
    "                #2.Yokoi Connectivity Number\n",
    "                if label.count('r') == 4:\n",
    "                    img_tmp[i-1, j-1, 0] = 5\n",
    "                    img_tmp[i-1, j-1, 1] = 5\n",
    "                    img_tmp[i-1, j-1, 2] = 5\n",
    "                else:\n",
    "                    c = label.count('q')\n",
    "                    img_tmp[i-1, j-1, 0] = c\n",
    "                    img_tmp[i-1, j-1, 1] = c\n",
    "                    img_tmp[i-1, j-1, 2] = c\n",
    "    return img_tmp.astype('uint8')\n",
    "                    "
   ]
  },
  {
   "cell_type": "code",
   "execution_count": 7,
   "metadata": {},
   "outputs": [],
   "source": [
    "#64x64x3\n",
    "yfc = yokoi_four_connectivity(down_sample)\n",
    "yfc_size = yfc.shape"
   ]
  },
  {
   "cell_type": "code",
   "execution_count": null,
   "metadata": {},
   "outputs": [],
   "source": []
  },
  {
   "cell_type": "code",
   "execution_count": 8,
   "metadata": {},
   "outputs": [],
   "source": [
    "def pair_relation(yfc):\n",
    "    yfc_size = yfc.shape\n",
    "    #print(yfc_size)\n",
    "    # 66x66\n",
    "    h = np.zeros((int(yfc_size[0]+2),int(yfc_size[1])+2)) #pad\n",
    "    # \"1\" means \"edge\"\n",
    "    for i in range(1,yfc_size[0]+1):\n",
    "        for j in range(1,yfc_size[1]+1):\n",
    "            if yfc[i-1, j-1, 0] == 1:\n",
    "                h[i, j] = 1\n",
    "            else:\n",
    "                h[i, j] = 0\n",
    "    #mark p q 64x64\n",
    "    y = [ [\"\" for i in range(yfc_size[1])] for j in range(yfc_size[0]) ]\n",
    "    y = np.array(y)\n",
    "    for i in range(1,yfc_size[0]+1):\n",
    "        for j in range(1,yfc_size[1]+1):\n",
    "            if yfc[i-1, j-1, 0] != 0:\n",
    "                h_sum = h[i-1,j]+h[i,j+1]+h[i+1,j]+h[i,j-1]\n",
    "                if h_sum < 1 or h[i,j] != 1:\n",
    "                    y[i-1,j-1] = 'q'\n",
    "                elif h_sum >= 1 and h[i,j] == 1:\n",
    "                    y[i-1,j-1] = 'p'\n",
    "                else:\n",
    "                    y[i-1,j-1] = ' '\n",
    "            else:\n",
    "                y[i-1,j-1] = ' '\n",
    "                \n",
    "    return y"
   ]
  },
  {
   "cell_type": "code",
   "execution_count": 11,
   "metadata": {},
   "outputs": [],
   "source": [
    "#mark p q 64x64\n",
    "y = pair_relation(yfc,downsample)\n",
    "#print(y.shape)"
   ]
  },
  {
   "cell_type": "code",
   "execution_count": 12,
   "metadata": {},
   "outputs": [
    {
     "data": {
      "image/png": "[encoded data removed]",
      "text/plain": [
       "<Figure size 432x288 with 1 Axes>"
      ]
     },
     "metadata": {
      "needs_background": "light"
     },
     "output_type": "display_data"
    }
   ],
   "source": [
    "down_sample_tmp = np.pad(array=down_sample, pad_width=((1,1),(1,1),(0,0)), mode='constant', constant_values=0)\n",
    "for i in range(1,yfc_size[0]+1):\n",
    "    for j in range(1,yfc_size[1]+1):\n",
    "        if y[i-1,j-1] == 'p':\n",
    "            dst = yokoi_four_connectivity(down_sample_tmp[i-1:i+2,j-1:j+2,:])\n",
    "            if dst[1,1,0] == 1:\n",
    "                down_sample_tmp[i,j,0] = 0\n",
    "                down_sample_tmp[i,j,1] = 0\n",
    "                down_sample_tmp[i,j,2] = 0\n",
    "            \n",
    "plt.imshow(down_sample_tmp[1:65,1:65,:].astype('uint8'))\n",
    "plt.show()"
   ]
  },
  {
   "cell_type": "code",
   "execution_count": 12,
   "metadata": {},
   "outputs": [],
   "source": [
    "def thinning(downsample,iter=1):\n",
    "    ds_thin = downsample\n",
    "    for i in range(iter):\n",
    "        #64x64x3\n",
    "        yfc = yokoi_four_connectivity(ds_thin)\n",
    "        yfc_size = yfc.shape\n",
    "        #mark p q 64x64\n",
    "        y = pair_relation(yfc)\n",
    "        tmp = np.pad(array=ds_thin, pad_width=((1,1),(1,1),(0,0)), mode='constant', constant_values=0)\n",
    "        for i in range(1,yfc_size[0]+1):\n",
    "            for j in range(1,yfc_size[1]+1):\n",
    "                if y[i-1,j-1] == 'p':\n",
    "                    dst = yokoi_four_connectivity(tmp[i-1:i+2,j-1:j+2,:])\n",
    "                    if dst[1,1,0] == 1:\n",
    "                        tmp[i,j,0] = 0\n",
    "                        tmp[i,j,1] = 0\n",
    "                        tmp[i,j,2] = 0\n",
    "        ds_thin = tmp[1:65,1:65,:]\n",
    "    return ds_thin"
   ]
  },
  {
   "cell_type": "code",
   "execution_count": 13,
   "metadata": {},
   "outputs": [
    {
     "data": {
      "image/png": "[encoded data removed]",
      "text/plain": [
       "<Figure size 432x288 with 1 Axes>"
      ]
     },
     "metadata": {
      "needs_background": "light"
     },
     "output_type": "display_data"
    }
   ],
   "source": [
    "ans = thinning(down_sample,7)\n",
    "\n",
    "plt.imshow(ans.astype('uint8'))\n",
    "plt.show()"
   ]
  },
  {
   "cell_type": "code",
   "execution_count": 9,
   "metadata": {},
   "outputs": [
    {
     "name": "stdout",
     "output_type": "stream",
     "text": [
      "[[[0 0 0]\n",
      "  [1 1 1]\n",
      "  [1 1 1]]\n",
      "\n",
      " [[0 0 0]\n",
      "  [1 1 1]\n",
      "  [1 1 1]]\n",
      "\n",
      " [[0 0 0]\n",
      "  [1 1 1]\n",
      "  [1 1 1]]]\n"
     ]
    }
   ],
   "source": [
    "test = np.array([[[0,0,0],[1,1,0],[1,1,0]],[[0,0,0],[1,1,0],[1,1,0]],[[0,0,0],[1,1,0],[1,1,0]]])\n",
    "ty = yokoi_four_connectivity(test)\n",
    "print(ty)"
   ]
  },
  {
   "cell_type": "code",
   "execution_count": null,
   "metadata": {},
   "outputs": [],
   "source": []
  }
 ],
 "metadata": {
  "kernelspec": {
   "display_name": "Python (cvhw)",
   "language": "python",
   "name": "cvhw"
  },
  "language_info": {
   "codemirror_mode": {
    "name": "ipython",
    "version": 3
   },
   "file_extension": ".py",
   "mimetype": "text/x-python",
   "name": "python",
   "nbconvert_exporter": "python",
   "pygments_lexer": "ipython3",
   "version": "3.6.12"
  }
 },
 "nbformat": 4,
 "nbformat_minor": 4
}
